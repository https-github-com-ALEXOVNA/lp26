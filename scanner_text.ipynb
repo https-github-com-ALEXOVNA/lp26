{
  "nbformat": 4,
  "nbformat_minor": 0,
  "metadata": {
    "colab": {
      "provenance": [],
      "collapsed_sections": [],
      "authorship_tag": "ABX9TyPxrDZTQe7VnAkKcXk2YxJ2"
    },
    "kernelspec": {
      "name": "python3",
      "display_name": "Python 3"
    },
    "language_info": {
      "name": "python"
    },
    "accelerator": "TPU",
    "gpuClass": "standard"
  },
  "cells": [
    {
      "cell_type": "code",
      "source": [
        "import string\n",
        "import re\n",
        "from collections import Counter"
      ],
      "metadata": {
        "id": "ygBvvROV8exD"
      },
      "execution_count": 1,
      "outputs": []
    },
    {
      "cell_type": "code",
      "source": [
        "txt = 'Blockchain.com Institutional Markets is a full-stack crypto services platform that works with crypto-native businesses and institutional clients on lending, trading, and custody solutions tailored to your needs.'\n",
        "txt_lower = txt.lower()\n",
        "print(txt_lower)"
      ],
      "metadata": {
        "id": "tSso4JIb8WlF",
        "colab": {
          "base_uri": "https://localhost:8080/"
        },
        "outputId": "dd92efc2-8e32-4d30-bdfe-4e2de8c631c1"
      },
      "execution_count": 2,
      "outputs": [
        {
          "output_type": "stream",
          "name": "stdout",
          "text": [
            "blockchain.com institutional markets is a full-stack crypto services platform that works with crypto-native businesses and institutional clients on lending, trading, and custody solutions tailored to your needs.\n"
          ]
        }
      ]
    },
    {
      "cell_type": "code",
      "source": [
        "words_lower_list = []\n",
        "words_lower_clear_list = txt_lower.split()\n",
        "print(f'words_lower_clear_list: {words_lower_clear_list}')"
      ],
      "metadata": {
        "colab": {
          "base_uri": "https://localhost:8080/"
        },
        "id": "4yLXONqBgLiR",
        "outputId": "8b8587d1-7559-409f-d57c-b45d4bd81a58"
      },
      "execution_count": 3,
      "outputs": [
        {
          "output_type": "stream",
          "name": "stdout",
          "text": [
            "words_lower_clear_list: ['blockchain.com', 'institutional', 'markets', 'is', 'a', 'full-stack', 'crypto', 'services', 'platform', 'that', 'works', 'with', 'crypto-native', 'businesses', 'and', 'institutional', 'clients', 'on', 'lending,', 'trading,', 'and', 'custody', 'solutions', 'tailored', 'to', 'your', 'needs.']\n"
          ]
        }
      ]
    },
    {
      "cell_type": "code",
      "source": [
        "size_top_list = 5\n",
        "\n",
        "ordered_words_lower_clear_list = Counter(words_lower_clear_list).most_common()\n",
        "top_words_list = ordered_words_lower_clear_list[0:size_top_list]\n",
        "print(f'top_words_list : {top_words_list}')"
      ],
      "metadata": {
        "colab": {
          "base_uri": "https://localhost:8080/"
        },
        "id": "-th3l4OsMhlE",
        "outputId": "07cb39c0-a08c-4c48-9203-b157da239673"
      },
      "execution_count": 4,
      "outputs": [
        {
          "output_type": "stream",
          "name": "stdout",
          "text": [
            "top_words_list : [('institutional', 2), ('and', 2), ('blockchain.com', 1), ('markets', 1), ('is', 1)]\n"
          ]
        }
      ]
    },
    {
      "cell_type": "code",
      "source": [
        "word = 0\n",
        "top_list = []\n",
        "\n",
        "if word < size_top_list:\n",
        "  for word in range(size_top_list):\n",
        "    top_list.append(top_words_list[word][0])\n",
        "    word +=1\n",
        "print(top_list)"
      ],
      "metadata": {
        "id": "EeGe6gQAP1ml",
        "collapsed": true,
        "colab": {
          "base_uri": "https://localhost:8080/"
        },
        "outputId": "67b4768d-50a5-4e45-a100-f10f8fb9cb53"
      },
      "execution_count": 5,
      "outputs": [
        {
          "output_type": "stream",
          "name": "stdout",
          "text": [
            "['institutional', 'and', 'blockchain.com', 'markets', 'is']\n"
          ]
        }
      ]
    }
  ]
}