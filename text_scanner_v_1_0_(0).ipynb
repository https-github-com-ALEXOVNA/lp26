{
  "nbformat": 4,
  "nbformat_minor": 0,
  "metadata": {
    "colab": {
      "provenance": [],
      "collapsed_sections": [],
      "authorship_tag": "ABX9TyPlNaJTzZ+tvV80laPlQngK",
      "include_colab_link": true
    },
    "kernelspec": {
      "name": "python3",
      "display_name": "Python 3"
    },
    "language_info": {
      "name": "python"
    }
  },
  "cells": [
    {
      "cell_type": "markdown",
      "metadata": {
        "id": "view-in-github",
        "colab_type": "text"
      },
      "source": [
        "<a href=\"https://colab.research.google.com/github/ALEXOVNA/lp26/blob/scanner_text/text_scanner_v_1_0_(0).ipynb\" target=\"_parent\"><img src=\"https://colab.research.google.com/assets/colab-badge.svg\" alt=\"Open In Colab\"/></a>"
      ]
    },
    {
      "cell_type": "code",
      "execution_count": null,
      "metadata": {
        "id": "Oh5H5Qw7TYgF"
      },
      "outputs": [],
      "source": [
        "# https://colab.research.google.com/drive/124MrbuRvzJNDkLvj7oEtnHAE_G6Jf2-w\n",
        "\n",
        "import string\n",
        "from collections import Counter\n",
        "\n",
        "\n",
        "def text_to_lower(text):\n",
        "  txt_lower = txt.lower()\n",
        "  return txt_lower\n",
        "\n",
        "\n",
        "def get_lower_text(txt):\n",
        "  txt = 'Blockchain.com Institutional Markets is a full-stack crypto services platform that works with crypto-native ' \\\n",
        "        '\\nbusinesses and institutional clients on lending, ' \\\n",
        "        '\\ntrading, and custody solutions tailored to your needs.'\n",
        "  text_to_lower(text=txt)\n",
        "\n",
        "\n",
        "def make_words_lower_list():\n",
        "  words_lower_clear_list = []\n",
        "  get_lower_text()\n",
        "  words_lower_clear_list = txt_lower.split()\n",
        "  return words_lower_clear_list\n",
        "\n",
        "\n",
        "def get_quantity_words(quantity_top_words):\n",
        "  print(\"How many top words in this text do you want to see? \\nEnter Quantity:\")\n",
        "  quantity_top_words = int(input())\n",
        "  return quantity_top_words\n",
        "\n",
        "\n",
        "def find_top_words_in_text():\n",
        "\n",
        "\n",
        "  word = 0\n",
        "  top_list = []\n",
        "\n",
        "  ordered_words_lower_clear_list = Counter(words_lower_clear_list).most_common()\n",
        "  top_words_list = ordered_words_lower_clear_list[0:squantity_top_words]\n",
        "  if word < quantity_top_words:\n",
        "    for word in range(quantity_top_words):\n",
        "      top_list.append(top_words_list[word][0])\n",
        "      word += 1\n",
        "  print(top_list)\n",
        "\n",
        "\n",
        "def start_scan_text():\n",
        "  make_words_lower_list()\n",
        "  get_quantity_words()\n",
        "  find_top_words_in_text()\n",
        "\n",
        "\n",
        "if __name__ == '__main__':\n",
        "  start_scan_text()\n"
      ]
    }
  ]
}